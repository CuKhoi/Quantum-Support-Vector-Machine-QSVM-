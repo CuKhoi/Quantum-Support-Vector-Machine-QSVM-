{
  "nbformat": 4,
  "nbformat_minor": 0,
  "metadata": {
    "colab": {
      "provenance": []
    },
    "kernelspec": {
      "name": "python3",
      "display_name": "Python 3"
    },
    "language_info": {
      "name": "python"
    }
  },
  "cells": [
    {
      "cell_type": "code",
      "source": [
        "from google.colab import drive\n",
        "drive.mount('/content/drive')\n"
      ],
      "metadata": {
        "colab": {
          "base_uri": "https://localhost:8080/"
        },
        "id": "xJffc3gNXzuN",
        "outputId": "a9153fda-264b-410b-e968-52434619ed28"
      },
      "execution_count": null,
      "outputs": [
        {
          "output_type": "stream",
          "name": "stdout",
          "text": [
            "Mounted at /content/drive\n"
          ]
        }
      ]
    },
    {
      "cell_type": "code",
      "source": [
        "#import all packages needed\n",
        "import numpy as np\n",
        "import matplotlib.pyplot as plt\n",
        "import pandas as pd\n"
      ],
      "metadata": {
        "id": "I5zFoekBYmWR"
      },
      "execution_count": null,
      "outputs": []
    },
    {
      "cell_type": "code",
      "execution_count": null,
      "metadata": {
        "id": "cxGnRNY5UGX4"
      },
      "outputs": [],
      "source": [
        "#Read and prepare dataset\n",
        "df = pd.read_csv(\"/content/drive/MyDrive/SVM/Titanic_Dataset/train.csv\",header = 0 ,na_values=\"NA\",comment = '\\t', sep = ',', skipinitialspace= True)\n"
      ]
    },
    {
      "cell_type": "code",
      "source": [
        "df.head()"
      ],
      "metadata": {
        "colab": {
          "base_uri": "https://localhost:8080/",
          "height": 206
        },
        "id": "EgnvWFKzZxoN",
        "outputId": "54fc6cad-832e-41e1-9481-bdf6a4563271"
      },
      "execution_count": null,
      "outputs": [
        {
          "output_type": "execute_result",
          "data": {
            "text/plain": [
              "   PassengerId  Survived  Pclass  \\\n",
              "0            1         0       3   \n",
              "1            2         1       1   \n",
              "2            3         1       3   \n",
              "3            4         1       1   \n",
              "4            5         0       3   \n",
              "\n",
              "                                                Name     Sex   Age  SibSp  \\\n",
              "0                            Braund, Mr. Owen Harris    male  22.0      1   \n",
              "1  Cumings, Mrs. John Bradley (Florence Briggs Th...  female  38.0      1   \n",
              "2                             Heikkinen, Miss. Laina  female  26.0      0   \n",
              "3       Futrelle, Mrs. Jacques Heath (Lily May Peel)  female  35.0      1   \n",
              "4                           Allen, Mr. William Henry    male  35.0      0   \n",
              "\n",
              "   Parch            Ticket     Fare Cabin Embarked  \n",
              "0      0         A/5 21171   7.2500   NaN        S  \n",
              "1      0          PC 17599  71.2833   C85        C  \n",
              "2      0  STON/O2. 3101282   7.9250   NaN        S  \n",
              "3      0            113803  53.1000  C123        S  \n",
              "4      0            373450   8.0500   NaN        S  "
            ],
            "text/html": [
              "\n",
              "  <div id=\"df-42a606a1-7a62-4a77-a343-448216c24aa4\" class=\"colab-df-container\">\n",
              "    <div>\n",
              "<style scoped>\n",
              "    .dataframe tbody tr th:only-of-type {\n",
              "        vertical-align: middle;\n",
              "    }\n",
              "\n",
              "    .dataframe tbody tr th {\n",
              "        vertical-align: top;\n",
              "    }\n",
              "\n",
              "    .dataframe thead th {\n",
              "        text-align: right;\n",
              "    }\n",
              "</style>\n",
              "<table border=\"1\" class=\"dataframe\">\n",
              "  <thead>\n",
              "    <tr style=\"text-align: right;\">\n",
              "      <th></th>\n",
              "      <th>PassengerId</th>\n",
              "      <th>Survived</th>\n",
              "      <th>Pclass</th>\n",
              "      <th>Name</th>\n",
              "      <th>Sex</th>\n",
              "      <th>Age</th>\n",
              "      <th>SibSp</th>\n",
              "      <th>Parch</th>\n",
              "      <th>Ticket</th>\n",
              "      <th>Fare</th>\n",
              "      <th>Cabin</th>\n",
              "      <th>Embarked</th>\n",
              "    </tr>\n",
              "  </thead>\n",
              "  <tbody>\n",
              "    <tr>\n",
              "      <th>0</th>\n",
              "      <td>1</td>\n",
              "      <td>0</td>\n",
              "      <td>3</td>\n",
              "      <td>Braund, Mr. Owen Harris</td>\n",
              "      <td>male</td>\n",
              "      <td>22.0</td>\n",
              "      <td>1</td>\n",
              "      <td>0</td>\n",
              "      <td>A/5 21171</td>\n",
              "      <td>7.2500</td>\n",
              "      <td>NaN</td>\n",
              "      <td>S</td>\n",
              "    </tr>\n",
              "    <tr>\n",
              "      <th>1</th>\n",
              "      <td>2</td>\n",
              "      <td>1</td>\n",
              "      <td>1</td>\n",
              "      <td>Cumings, Mrs. John Bradley (Florence Briggs Th...</td>\n",
              "      <td>female</td>\n",
              "      <td>38.0</td>\n",
              "      <td>1</td>\n",
              "      <td>0</td>\n",
              "      <td>PC 17599</td>\n",
              "      <td>71.2833</td>\n",
              "      <td>C85</td>\n",
              "      <td>C</td>\n",
              "    </tr>\n",
              "    <tr>\n",
              "      <th>2</th>\n",
              "      <td>3</td>\n",
              "      <td>1</td>\n",
              "      <td>3</td>\n",
              "      <td>Heikkinen, Miss. Laina</td>\n",
              "      <td>female</td>\n",
              "      <td>26.0</td>\n",
              "      <td>0</td>\n",
              "      <td>0</td>\n",
              "      <td>STON/O2. 3101282</td>\n",
              "      <td>7.9250</td>\n",
              "      <td>NaN</td>\n",
              "      <td>S</td>\n",
              "    </tr>\n",
              "    <tr>\n",
              "      <th>3</th>\n",
              "      <td>4</td>\n",
              "      <td>1</td>\n",
              "      <td>1</td>\n",
              "      <td>Futrelle, Mrs. Jacques Heath (Lily May Peel)</td>\n",
              "      <td>female</td>\n",
              "      <td>35.0</td>\n",
              "      <td>1</td>\n",
              "      <td>0</td>\n",
              "      <td>113803</td>\n",
              "      <td>53.1000</td>\n",
              "      <td>C123</td>\n",
              "      <td>S</td>\n",
              "    </tr>\n",
              "    <tr>\n",
              "      <th>4</th>\n",
              "      <td>5</td>\n",
              "      <td>0</td>\n",
              "      <td>3</td>\n",
              "      <td>Allen, Mr. William Henry</td>\n",
              "      <td>male</td>\n",
              "      <td>35.0</td>\n",
              "      <td>0</td>\n",
              "      <td>0</td>\n",
              "      <td>373450</td>\n",
              "      <td>8.0500</td>\n",
              "      <td>NaN</td>\n",
              "      <td>S</td>\n",
              "    </tr>\n",
              "  </tbody>\n",
              "</table>\n",
              "</div>\n",
              "    <div class=\"colab-df-buttons\">\n",
              "\n",
              "  <div class=\"colab-df-container\">\n",
              "    <button class=\"colab-df-convert\" onclick=\"convertToInteractive('df-42a606a1-7a62-4a77-a343-448216c24aa4')\"\n",
              "            title=\"Convert this dataframe to an interactive table.\"\n",
              "            style=\"display:none;\">\n",
              "\n",
              "  <svg xmlns=\"http://www.w3.org/2000/svg\" height=\"24px\" viewBox=\"0 -960 960 960\">\n",
              "    <path d=\"M120-120v-720h720v720H120Zm60-500h600v-160H180v160Zm220 220h160v-160H400v160Zm0 220h160v-160H400v160ZM180-400h160v-160H180v160Zm440 0h160v-160H620v160ZM180-180h160v-160H180v160Zm440 0h160v-160H620v160Z\"/>\n",
              "  </svg>\n",
              "    </button>\n",
              "\n",
              "  <style>\n",
              "    .colab-df-container {\n",
              "      display:flex;\n",
              "      gap: 12px;\n",
              "    }\n",
              "\n",
              "    .colab-df-convert {\n",
              "      background-color: #E8F0FE;\n",
              "      border: none;\n",
              "      border-radius: 50%;\n",
              "      cursor: pointer;\n",
              "      display: none;\n",
              "      fill: #1967D2;\n",
              "      height: 32px;\n",
              "      padding: 0 0 0 0;\n",
              "      width: 32px;\n",
              "    }\n",
              "\n",
              "    .colab-df-convert:hover {\n",
              "      background-color: #E2EBFA;\n",
              "      box-shadow: 0px 1px 2px rgba(60, 64, 67, 0.3), 0px 1px 3px 1px rgba(60, 64, 67, 0.15);\n",
              "      fill: #174EA6;\n",
              "    }\n",
              "\n",
              "    .colab-df-buttons div {\n",
              "      margin-bottom: 4px;\n",
              "    }\n",
              "\n",
              "    [theme=dark] .colab-df-convert {\n",
              "      background-color: #3B4455;\n",
              "      fill: #D2E3FC;\n",
              "    }\n",
              "\n",
              "    [theme=dark] .colab-df-convert:hover {\n",
              "      background-color: #434B5C;\n",
              "      box-shadow: 0px 1px 3px 1px rgba(0, 0, 0, 0.15);\n",
              "      filter: drop-shadow(0px 1px 2px rgba(0, 0, 0, 0.3));\n",
              "      fill: #FFFFFF;\n",
              "    }\n",
              "  </style>\n",
              "\n",
              "    <script>\n",
              "      const buttonEl =\n",
              "        document.querySelector('#df-42a606a1-7a62-4a77-a343-448216c24aa4 button.colab-df-convert');\n",
              "      buttonEl.style.display =\n",
              "        google.colab.kernel.accessAllowed ? 'block' : 'none';\n",
              "\n",
              "      async function convertToInteractive(key) {\n",
              "        const element = document.querySelector('#df-42a606a1-7a62-4a77-a343-448216c24aa4');\n",
              "        const dataTable =\n",
              "          await google.colab.kernel.invokeFunction('convertToInteractive',\n",
              "                                                    [key], {});\n",
              "        if (!dataTable) return;\n",
              "\n",
              "        const docLinkHtml = 'Like what you see? Visit the ' +\n",
              "          '<a target=\"_blank\" href=https://colab.research.google.com/notebooks/data_table.ipynb>data table notebook</a>'\n",
              "          + ' to learn more about interactive tables.';\n",
              "        element.innerHTML = '';\n",
              "        dataTable['output_type'] = 'display_data';\n",
              "        await google.colab.output.renderOutput(dataTable, element);\n",
              "        const docLink = document.createElement('div');\n",
              "        docLink.innerHTML = docLinkHtml;\n",
              "        element.appendChild(docLink);\n",
              "      }\n",
              "    </script>\n",
              "  </div>\n",
              "\n",
              "\n",
              "<div id=\"df-3749f57d-faf9-426a-9abc-bea130a4ef8c\">\n",
              "  <button class=\"colab-df-quickchart\" onclick=\"quickchart('df-3749f57d-faf9-426a-9abc-bea130a4ef8c')\"\n",
              "            title=\"Suggest charts\"\n",
              "            style=\"display:none;\">\n",
              "\n",
              "<svg xmlns=\"http://www.w3.org/2000/svg\" height=\"24px\"viewBox=\"0 0 24 24\"\n",
              "     width=\"24px\">\n",
              "    <g>\n",
              "        <path d=\"M19 3H5c-1.1 0-2 .9-2 2v14c0 1.1.9 2 2 2h14c1.1 0 2-.9 2-2V5c0-1.1-.9-2-2-2zM9 17H7v-7h2v7zm4 0h-2V7h2v10zm4 0h-2v-4h2v4z\"/>\n",
              "    </g>\n",
              "</svg>\n",
              "  </button>\n",
              "\n",
              "<style>\n",
              "  .colab-df-quickchart {\n",
              "      --bg-color: #E8F0FE;\n",
              "      --fill-color: #1967D2;\n",
              "      --hover-bg-color: #E2EBFA;\n",
              "      --hover-fill-color: #174EA6;\n",
              "      --disabled-fill-color: #AAA;\n",
              "      --disabled-bg-color: #DDD;\n",
              "  }\n",
              "\n",
              "  [theme=dark] .colab-df-quickchart {\n",
              "      --bg-color: #3B4455;\n",
              "      --fill-color: #D2E3FC;\n",
              "      --hover-bg-color: #434B5C;\n",
              "      --hover-fill-color: #FFFFFF;\n",
              "      --disabled-bg-color: #3B4455;\n",
              "      --disabled-fill-color: #666;\n",
              "  }\n",
              "\n",
              "  .colab-df-quickchart {\n",
              "    background-color: var(--bg-color);\n",
              "    border: none;\n",
              "    border-radius: 50%;\n",
              "    cursor: pointer;\n",
              "    display: none;\n",
              "    fill: var(--fill-color);\n",
              "    height: 32px;\n",
              "    padding: 0;\n",
              "    width: 32px;\n",
              "  }\n",
              "\n",
              "  .colab-df-quickchart:hover {\n",
              "    background-color: var(--hover-bg-color);\n",
              "    box-shadow: 0 1px 2px rgba(60, 64, 67, 0.3), 0 1px 3px 1px rgba(60, 64, 67, 0.15);\n",
              "    fill: var(--button-hover-fill-color);\n",
              "  }\n",
              "\n",
              "  .colab-df-quickchart-complete:disabled,\n",
              "  .colab-df-quickchart-complete:disabled:hover {\n",
              "    background-color: var(--disabled-bg-color);\n",
              "    fill: var(--disabled-fill-color);\n",
              "    box-shadow: none;\n",
              "  }\n",
              "\n",
              "  .colab-df-spinner {\n",
              "    border: 2px solid var(--fill-color);\n",
              "    border-color: transparent;\n",
              "    border-bottom-color: var(--fill-color);\n",
              "    animation:\n",
              "      spin 1s steps(1) infinite;\n",
              "  }\n",
              "\n",
              "  @keyframes spin {\n",
              "    0% {\n",
              "      border-color: transparent;\n",
              "      border-bottom-color: var(--fill-color);\n",
              "      border-left-color: var(--fill-color);\n",
              "    }\n",
              "    20% {\n",
              "      border-color: transparent;\n",
              "      border-left-color: var(--fill-color);\n",
              "      border-top-color: var(--fill-color);\n",
              "    }\n",
              "    30% {\n",
              "      border-color: transparent;\n",
              "      border-left-color: var(--fill-color);\n",
              "      border-top-color: var(--fill-color);\n",
              "      border-right-color: var(--fill-color);\n",
              "    }\n",
              "    40% {\n",
              "      border-color: transparent;\n",
              "      border-right-color: var(--fill-color);\n",
              "      border-top-color: var(--fill-color);\n",
              "    }\n",
              "    60% {\n",
              "      border-color: transparent;\n",
              "      border-right-color: var(--fill-color);\n",
              "    }\n",
              "    80% {\n",
              "      border-color: transparent;\n",
              "      border-right-color: var(--fill-color);\n",
              "      border-bottom-color: var(--fill-color);\n",
              "    }\n",
              "    90% {\n",
              "      border-color: transparent;\n",
              "      border-bottom-color: var(--fill-color);\n",
              "    }\n",
              "  }\n",
              "</style>\n",
              "\n",
              "  <script>\n",
              "    async function quickchart(key) {\n",
              "      const quickchartButtonEl =\n",
              "        document.querySelector('#' + key + ' button');\n",
              "      quickchartButtonEl.disabled = true;  // To prevent multiple clicks.\n",
              "      quickchartButtonEl.classList.add('colab-df-spinner');\n",
              "      try {\n",
              "        const charts = await google.colab.kernel.invokeFunction(\n",
              "            'suggestCharts', [key], {});\n",
              "      } catch (error) {\n",
              "        console.error('Error during call to suggestCharts:', error);\n",
              "      }\n",
              "      quickchartButtonEl.classList.remove('colab-df-spinner');\n",
              "      quickchartButtonEl.classList.add('colab-df-quickchart-complete');\n",
              "    }\n",
              "    (() => {\n",
              "      let quickchartButtonEl =\n",
              "        document.querySelector('#df-3749f57d-faf9-426a-9abc-bea130a4ef8c button');\n",
              "      quickchartButtonEl.style.display =\n",
              "        google.colab.kernel.accessAllowed ? 'block' : 'none';\n",
              "    })();\n",
              "  </script>\n",
              "</div>\n",
              "\n",
              "    </div>\n",
              "  </div>\n"
            ],
            "application/vnd.google.colaboratory.intrinsic+json": {
              "type": "dataframe",
              "variable_name": "df",
              "summary": "{\n  \"name\": \"df\",\n  \"rows\": 891,\n  \"fields\": [\n    {\n      \"column\": \"PassengerId\",\n      \"properties\": {\n        \"dtype\": \"number\",\n        \"std\": 257,\n        \"min\": 1,\n        \"max\": 891,\n        \"num_unique_values\": 891,\n        \"samples\": [\n          710,\n          440,\n          841\n        ],\n        \"semantic_type\": \"\",\n        \"description\": \"\"\n      }\n    },\n    {\n      \"column\": \"Survived\",\n      \"properties\": {\n        \"dtype\": \"number\",\n        \"std\": 0,\n        \"min\": 0,\n        \"max\": 1,\n        \"num_unique_values\": 2,\n        \"samples\": [\n          1,\n          0\n        ],\n        \"semantic_type\": \"\",\n        \"description\": \"\"\n      }\n    },\n    {\n      \"column\": \"Pclass\",\n      \"properties\": {\n        \"dtype\": \"number\",\n        \"std\": 0,\n        \"min\": 1,\n        \"max\": 3,\n        \"num_unique_values\": 3,\n        \"samples\": [\n          3,\n          1\n        ],\n        \"semantic_type\": \"\",\n        \"description\": \"\"\n      }\n    },\n    {\n      \"column\": \"Name\",\n      \"properties\": {\n        \"dtype\": \"string\",\n        \"num_unique_values\": 891,\n        \"samples\": [\n          \"Moubarek, Master. Halim Gonios (\\\"William George\\\")\",\n          \"Kvillner, Mr. Johan Henrik Johannesson\"\n        ],\n        \"semantic_type\": \"\",\n        \"description\": \"\"\n      }\n    },\n    {\n      \"column\": \"Sex\",\n      \"properties\": {\n        \"dtype\": \"category\",\n        \"num_unique_values\": 2,\n        \"samples\": [\n          \"female\",\n          \"male\"\n        ],\n        \"semantic_type\": \"\",\n        \"description\": \"\"\n      }\n    },\n    {\n      \"column\": \"Age\",\n      \"properties\": {\n        \"dtype\": \"number\",\n        \"std\": 14.526497332334042,\n        \"min\": 0.42,\n        \"max\": 80.0,\n        \"num_unique_values\": 88,\n        \"samples\": [\n          0.75,\n          22.0\n        ],\n        \"semantic_type\": \"\",\n        \"description\": \"\"\n      }\n    },\n    {\n      \"column\": \"SibSp\",\n      \"properties\": {\n        \"dtype\": \"number\",\n        \"std\": 1,\n        \"min\": 0,\n        \"max\": 8,\n        \"num_unique_values\": 7,\n        \"samples\": [\n          1,\n          0\n        ],\n        \"semantic_type\": \"\",\n        \"description\": \"\"\n      }\n    },\n    {\n      \"column\": \"Parch\",\n      \"properties\": {\n        \"dtype\": \"number\",\n        \"std\": 0,\n        \"min\": 0,\n        \"max\": 6,\n        \"num_unique_values\": 7,\n        \"samples\": [\n          0,\n          1\n        ],\n        \"semantic_type\": \"\",\n        \"description\": \"\"\n      }\n    },\n    {\n      \"column\": \"Ticket\",\n      \"properties\": {\n        \"dtype\": \"string\",\n        \"num_unique_values\": 681,\n        \"samples\": [\n          \"11774\",\n          \"248740\"\n        ],\n        \"semantic_type\": \"\",\n        \"description\": \"\"\n      }\n    },\n    {\n      \"column\": \"Fare\",\n      \"properties\": {\n        \"dtype\": \"number\",\n        \"std\": 49.6934285971809,\n        \"min\": 0.0,\n        \"max\": 512.3292,\n        \"num_unique_values\": 248,\n        \"samples\": [\n          11.2417,\n          51.8625\n        ],\n        \"semantic_type\": \"\",\n        \"description\": \"\"\n      }\n    },\n    {\n      \"column\": \"Cabin\",\n      \"properties\": {\n        \"dtype\": \"category\",\n        \"num_unique_values\": 147,\n        \"samples\": [\n          \"D45\",\n          \"B49\"\n        ],\n        \"semantic_type\": \"\",\n        \"description\": \"\"\n      }\n    },\n    {\n      \"column\": \"Embarked\",\n      \"properties\": {\n        \"dtype\": \"category\",\n        \"num_unique_values\": 3,\n        \"samples\": [\n          \"S\",\n          \"C\"\n        ],\n        \"semantic_type\": \"\",\n        \"description\": \"\"\n      }\n    }\n  ]\n}"
            }
          },
          "metadata": {},
          "execution_count": 4
        }
      ]
    },
    {
      "cell_type": "markdown",
      "source": [
        "SibSP: No.of siblings / spouses aboard the Titanic\n",
        "Parch: No.of parents / children aboard the Titanic\n",
        "Fare: Passenger fare\n",
        "Embarked: Port of Embarkation: C = Cherbourg , Q = Queenstown , S = Southampton"
      ],
      "metadata": {
        "id": "dWoTJh-VcAEU"
      }
    },
    {
      "cell_type": "code",
      "source": [
        "df.info()"
      ],
      "metadata": {
        "colab": {
          "base_uri": "https://localhost:8080/"
        },
        "id": "D4VI_4paaD6Q",
        "outputId": "d3ab5cfe-47b9-4d8d-96b7-7159c7a3176c"
      },
      "execution_count": null,
      "outputs": [
        {
          "output_type": "stream",
          "name": "stdout",
          "text": [
            "<class 'pandas.core.frame.DataFrame'>\n",
            "RangeIndex: 891 entries, 0 to 890\n",
            "Data columns (total 12 columns):\n",
            " #   Column       Non-Null Count  Dtype  \n",
            "---  ------       --------------  -----  \n",
            " 0   PassengerId  891 non-null    int64  \n",
            " 1   Survived     891 non-null    int64  \n",
            " 2   Pclass       891 non-null    int64  \n",
            " 3   Name         891 non-null    object \n",
            " 4   Sex          891 non-null    object \n",
            " 5   Age          714 non-null    float64\n",
            " 6   SibSp        891 non-null    int64  \n",
            " 7   Parch        891 non-null    int64  \n",
            " 8   Ticket       891 non-null    object \n",
            " 9   Fare         891 non-null    float64\n",
            " 10  Cabin        204 non-null    object \n",
            " 11  Embarked     889 non-null    object \n",
            "dtypes: float64(2), int64(5), object(5)\n",
            "memory usage: 83.7+ KB\n"
          ]
        }
      ]
    },
    {
      "cell_type": "code",
      "source": [
        "df.drop(['PassengerId','Name','Ticket','Cabin','Embarked'],axis = 1 , inplace= True)"
      ],
      "metadata": {
        "id": "xf5vG9xMdLd0"
      },
      "execution_count": null,
      "outputs": []
    },
    {
      "cell_type": "code",
      "source": [
        "df.isna().any()\n",
        "#df.isna(sum())"
      ],
      "metadata": {
        "colab": {
          "base_uri": "https://localhost:8080/"
        },
        "id": "th2NX-0KdzIj",
        "outputId": "36a62fc1-7966-4554-e9ae-d1830e912526"
      },
      "execution_count": null,
      "outputs": [
        {
          "output_type": "execute_result",
          "data": {
            "text/plain": [
              "Survived    False\n",
              "Pclass      False\n",
              "Sex         False\n",
              "Age          True\n",
              "SibSp       False\n",
              "Parch       False\n",
              "Fare        False\n",
              "dtype: bool"
            ]
          },
          "metadata": {},
          "execution_count": 7
        }
      ]
    },
    {
      "cell_type": "code",
      "source": [
        "df.dropna(inplace=True)\n",
        "#df.fillna()"
      ],
      "metadata": {
        "id": "bYDUPxIAeV0j"
      },
      "execution_count": null,
      "outputs": []
    },
    {
      "cell_type": "code",
      "source": [
        "df.head()"
      ],
      "metadata": {
        "colab": {
          "base_uri": "https://localhost:8080/",
          "height": 206
        },
        "id": "CVY6tcxtepYT",
        "outputId": "3688f16d-616f-43cd-a492-2924daa081c7"
      },
      "execution_count": null,
      "outputs": [
        {
          "output_type": "execute_result",
          "data": {
            "text/plain": [
              "   Survived  Pclass     Sex   Age  SibSp  Parch     Fare\n",
              "0         0       3    male  22.0      1      0   7.2500\n",
              "1         1       1  female  38.0      1      0  71.2833\n",
              "2         1       3  female  26.0      0      0   7.9250\n",
              "3         1       1  female  35.0      1      0  53.1000\n",
              "4         0       3    male  35.0      0      0   8.0500"
            ],
            "text/html": [
              "\n",
              "  <div id=\"df-226644c2-bfc0-44a8-ac74-dfdfa06129fe\" class=\"colab-df-container\">\n",
              "    <div>\n",
              "<style scoped>\n",
              "    .dataframe tbody tr th:only-of-type {\n",
              "        vertical-align: middle;\n",
              "    }\n",
              "\n",
              "    .dataframe tbody tr th {\n",
              "        vertical-align: top;\n",
              "    }\n",
              "\n",
              "    .dataframe thead th {\n",
              "        text-align: right;\n",
              "    }\n",
              "</style>\n",
              "<table border=\"1\" class=\"dataframe\">\n",
              "  <thead>\n",
              "    <tr style=\"text-align: right;\">\n",
              "      <th></th>\n",
              "      <th>Survived</th>\n",
              "      <th>Pclass</th>\n",
              "      <th>Sex</th>\n",
              "      <th>Age</th>\n",
              "      <th>SibSp</th>\n",
              "      <th>Parch</th>\n",
              "      <th>Fare</th>\n",
              "    </tr>\n",
              "  </thead>\n",
              "  <tbody>\n",
              "    <tr>\n",
              "      <th>0</th>\n",
              "      <td>0</td>\n",
              "      <td>3</td>\n",
              "      <td>male</td>\n",
              "      <td>22.0</td>\n",
              "      <td>1</td>\n",
              "      <td>0</td>\n",
              "      <td>7.2500</td>\n",
              "    </tr>\n",
              "    <tr>\n",
              "      <th>1</th>\n",
              "      <td>1</td>\n",
              "      <td>1</td>\n",
              "      <td>female</td>\n",
              "      <td>38.0</td>\n",
              "      <td>1</td>\n",
              "      <td>0</td>\n",
              "      <td>71.2833</td>\n",
              "    </tr>\n",
              "    <tr>\n",
              "      <th>2</th>\n",
              "      <td>1</td>\n",
              "      <td>3</td>\n",
              "      <td>female</td>\n",
              "      <td>26.0</td>\n",
              "      <td>0</td>\n",
              "      <td>0</td>\n",
              "      <td>7.9250</td>\n",
              "    </tr>\n",
              "    <tr>\n",
              "      <th>3</th>\n",
              "      <td>1</td>\n",
              "      <td>1</td>\n",
              "      <td>female</td>\n",
              "      <td>35.0</td>\n",
              "      <td>1</td>\n",
              "      <td>0</td>\n",
              "      <td>53.1000</td>\n",
              "    </tr>\n",
              "    <tr>\n",
              "      <th>4</th>\n",
              "      <td>0</td>\n",
              "      <td>3</td>\n",
              "      <td>male</td>\n",
              "      <td>35.0</td>\n",
              "      <td>0</td>\n",
              "      <td>0</td>\n",
              "      <td>8.0500</td>\n",
              "    </tr>\n",
              "  </tbody>\n",
              "</table>\n",
              "</div>\n",
              "    <div class=\"colab-df-buttons\">\n",
              "\n",
              "  <div class=\"colab-df-container\">\n",
              "    <button class=\"colab-df-convert\" onclick=\"convertToInteractive('df-226644c2-bfc0-44a8-ac74-dfdfa06129fe')\"\n",
              "            title=\"Convert this dataframe to an interactive table.\"\n",
              "            style=\"display:none;\">\n",
              "\n",
              "  <svg xmlns=\"http://www.w3.org/2000/svg\" height=\"24px\" viewBox=\"0 -960 960 960\">\n",
              "    <path d=\"M120-120v-720h720v720H120Zm60-500h600v-160H180v160Zm220 220h160v-160H400v160Zm0 220h160v-160H400v160ZM180-400h160v-160H180v160Zm440 0h160v-160H620v160ZM180-180h160v-160H180v160Zm440 0h160v-160H620v160Z\"/>\n",
              "  </svg>\n",
              "    </button>\n",
              "\n",
              "  <style>\n",
              "    .colab-df-container {\n",
              "      display:flex;\n",
              "      gap: 12px;\n",
              "    }\n",
              "\n",
              "    .colab-df-convert {\n",
              "      background-color: #E8F0FE;\n",
              "      border: none;\n",
              "      border-radius: 50%;\n",
              "      cursor: pointer;\n",
              "      display: none;\n",
              "      fill: #1967D2;\n",
              "      height: 32px;\n",
              "      padding: 0 0 0 0;\n",
              "      width: 32px;\n",
              "    }\n",
              "\n",
              "    .colab-df-convert:hover {\n",
              "      background-color: #E2EBFA;\n",
              "      box-shadow: 0px 1px 2px rgba(60, 64, 67, 0.3), 0px 1px 3px 1px rgba(60, 64, 67, 0.15);\n",
              "      fill: #174EA6;\n",
              "    }\n",
              "\n",
              "    .colab-df-buttons div {\n",
              "      margin-bottom: 4px;\n",
              "    }\n",
              "\n",
              "    [theme=dark] .colab-df-convert {\n",
              "      background-color: #3B4455;\n",
              "      fill: #D2E3FC;\n",
              "    }\n",
              "\n",
              "    [theme=dark] .colab-df-convert:hover {\n",
              "      background-color: #434B5C;\n",
              "      box-shadow: 0px 1px 3px 1px rgba(0, 0, 0, 0.15);\n",
              "      filter: drop-shadow(0px 1px 2px rgba(0, 0, 0, 0.3));\n",
              "      fill: #FFFFFF;\n",
              "    }\n",
              "  </style>\n",
              "\n",
              "    <script>\n",
              "      const buttonEl =\n",
              "        document.querySelector('#df-226644c2-bfc0-44a8-ac74-dfdfa06129fe button.colab-df-convert');\n",
              "      buttonEl.style.display =\n",
              "        google.colab.kernel.accessAllowed ? 'block' : 'none';\n",
              "\n",
              "      async function convertToInteractive(key) {\n",
              "        const element = document.querySelector('#df-226644c2-bfc0-44a8-ac74-dfdfa06129fe');\n",
              "        const dataTable =\n",
              "          await google.colab.kernel.invokeFunction('convertToInteractive',\n",
              "                                                    [key], {});\n",
              "        if (!dataTable) return;\n",
              "\n",
              "        const docLinkHtml = 'Like what you see? Visit the ' +\n",
              "          '<a target=\"_blank\" href=https://colab.research.google.com/notebooks/data_table.ipynb>data table notebook</a>'\n",
              "          + ' to learn more about interactive tables.';\n",
              "        element.innerHTML = '';\n",
              "        dataTable['output_type'] = 'display_data';\n",
              "        await google.colab.output.renderOutput(dataTable, element);\n",
              "        const docLink = document.createElement('div');\n",
              "        docLink.innerHTML = docLinkHtml;\n",
              "        element.appendChild(docLink);\n",
              "      }\n",
              "    </script>\n",
              "  </div>\n",
              "\n",
              "\n",
              "<div id=\"df-e1f67460-6450-47ff-8607-4a68550208e5\">\n",
              "  <button class=\"colab-df-quickchart\" onclick=\"quickchart('df-e1f67460-6450-47ff-8607-4a68550208e5')\"\n",
              "            title=\"Suggest charts\"\n",
              "            style=\"display:none;\">\n",
              "\n",
              "<svg xmlns=\"http://www.w3.org/2000/svg\" height=\"24px\"viewBox=\"0 0 24 24\"\n",
              "     width=\"24px\">\n",
              "    <g>\n",
              "        <path d=\"M19 3H5c-1.1 0-2 .9-2 2v14c0 1.1.9 2 2 2h14c1.1 0 2-.9 2-2V5c0-1.1-.9-2-2-2zM9 17H7v-7h2v7zm4 0h-2V7h2v10zm4 0h-2v-4h2v4z\"/>\n",
              "    </g>\n",
              "</svg>\n",
              "  </button>\n",
              "\n",
              "<style>\n",
              "  .colab-df-quickchart {\n",
              "      --bg-color: #E8F0FE;\n",
              "      --fill-color: #1967D2;\n",
              "      --hover-bg-color: #E2EBFA;\n",
              "      --hover-fill-color: #174EA6;\n",
              "      --disabled-fill-color: #AAA;\n",
              "      --disabled-bg-color: #DDD;\n",
              "  }\n",
              "\n",
              "  [theme=dark] .colab-df-quickchart {\n",
              "      --bg-color: #3B4455;\n",
              "      --fill-color: #D2E3FC;\n",
              "      --hover-bg-color: #434B5C;\n",
              "      --hover-fill-color: #FFFFFF;\n",
              "      --disabled-bg-color: #3B4455;\n",
              "      --disabled-fill-color: #666;\n",
              "  }\n",
              "\n",
              "  .colab-df-quickchart {\n",
              "    background-color: var(--bg-color);\n",
              "    border: none;\n",
              "    border-radius: 50%;\n",
              "    cursor: pointer;\n",
              "    display: none;\n",
              "    fill: var(--fill-color);\n",
              "    height: 32px;\n",
              "    padding: 0;\n",
              "    width: 32px;\n",
              "  }\n",
              "\n",
              "  .colab-df-quickchart:hover {\n",
              "    background-color: var(--hover-bg-color);\n",
              "    box-shadow: 0 1px 2px rgba(60, 64, 67, 0.3), 0 1px 3px 1px rgba(60, 64, 67, 0.15);\n",
              "    fill: var(--button-hover-fill-color);\n",
              "  }\n",
              "\n",
              "  .colab-df-quickchart-complete:disabled,\n",
              "  .colab-df-quickchart-complete:disabled:hover {\n",
              "    background-color: var(--disabled-bg-color);\n",
              "    fill: var(--disabled-fill-color);\n",
              "    box-shadow: none;\n",
              "  }\n",
              "\n",
              "  .colab-df-spinner {\n",
              "    border: 2px solid var(--fill-color);\n",
              "    border-color: transparent;\n",
              "    border-bottom-color: var(--fill-color);\n",
              "    animation:\n",
              "      spin 1s steps(1) infinite;\n",
              "  }\n",
              "\n",
              "  @keyframes spin {\n",
              "    0% {\n",
              "      border-color: transparent;\n",
              "      border-bottom-color: var(--fill-color);\n",
              "      border-left-color: var(--fill-color);\n",
              "    }\n",
              "    20% {\n",
              "      border-color: transparent;\n",
              "      border-left-color: var(--fill-color);\n",
              "      border-top-color: var(--fill-color);\n",
              "    }\n",
              "    30% {\n",
              "      border-color: transparent;\n",
              "      border-left-color: var(--fill-color);\n",
              "      border-top-color: var(--fill-color);\n",
              "      border-right-color: var(--fill-color);\n",
              "    }\n",
              "    40% {\n",
              "      border-color: transparent;\n",
              "      border-right-color: var(--fill-color);\n",
              "      border-top-color: var(--fill-color);\n",
              "    }\n",
              "    60% {\n",
              "      border-color: transparent;\n",
              "      border-right-color: var(--fill-color);\n",
              "    }\n",
              "    80% {\n",
              "      border-color: transparent;\n",
              "      border-right-color: var(--fill-color);\n",
              "      border-bottom-color: var(--fill-color);\n",
              "    }\n",
              "    90% {\n",
              "      border-color: transparent;\n",
              "      border-bottom-color: var(--fill-color);\n",
              "    }\n",
              "  }\n",
              "</style>\n",
              "\n",
              "  <script>\n",
              "    async function quickchart(key) {\n",
              "      const quickchartButtonEl =\n",
              "        document.querySelector('#' + key + ' button');\n",
              "      quickchartButtonEl.disabled = true;  // To prevent multiple clicks.\n",
              "      quickchartButtonEl.classList.add('colab-df-spinner');\n",
              "      try {\n",
              "        const charts = await google.colab.kernel.invokeFunction(\n",
              "            'suggestCharts', [key], {});\n",
              "      } catch (error) {\n",
              "        console.error('Error during call to suggestCharts:', error);\n",
              "      }\n",
              "      quickchartButtonEl.classList.remove('colab-df-spinner');\n",
              "      quickchartButtonEl.classList.add('colab-df-quickchart-complete');\n",
              "    }\n",
              "    (() => {\n",
              "      let quickchartButtonEl =\n",
              "        document.querySelector('#df-e1f67460-6450-47ff-8607-4a68550208e5 button');\n",
              "      quickchartButtonEl.style.display =\n",
              "        google.colab.kernel.accessAllowed ? 'block' : 'none';\n",
              "    })();\n",
              "  </script>\n",
              "</div>\n",
              "\n",
              "    </div>\n",
              "  </div>\n"
            ],
            "application/vnd.google.colaboratory.intrinsic+json": {
              "type": "dataframe",
              "variable_name": "df",
              "summary": "{\n  \"name\": \"df\",\n  \"rows\": 714,\n  \"fields\": [\n    {\n      \"column\": \"Survived\",\n      \"properties\": {\n        \"dtype\": \"number\",\n        \"std\": 0,\n        \"min\": 0,\n        \"max\": 1,\n        \"num_unique_values\": 2,\n        \"samples\": [\n          1,\n          0\n        ],\n        \"semantic_type\": \"\",\n        \"description\": \"\"\n      }\n    },\n    {\n      \"column\": \"Pclass\",\n      \"properties\": {\n        \"dtype\": \"number\",\n        \"std\": 0,\n        \"min\": 1,\n        \"max\": 3,\n        \"num_unique_values\": 3,\n        \"samples\": [\n          3,\n          1\n        ],\n        \"semantic_type\": \"\",\n        \"description\": \"\"\n      }\n    },\n    {\n      \"column\": \"Sex\",\n      \"properties\": {\n        \"dtype\": \"category\",\n        \"num_unique_values\": 2,\n        \"samples\": [\n          \"female\",\n          \"male\"\n        ],\n        \"semantic_type\": \"\",\n        \"description\": \"\"\n      }\n    },\n    {\n      \"column\": \"Age\",\n      \"properties\": {\n        \"dtype\": \"number\",\n        \"std\": 14.526497332334042,\n        \"min\": 0.42,\n        \"max\": 80.0,\n        \"num_unique_values\": 88,\n        \"samples\": [\n          0.75,\n          22.0\n        ],\n        \"semantic_type\": \"\",\n        \"description\": \"\"\n      }\n    },\n    {\n      \"column\": \"SibSp\",\n      \"properties\": {\n        \"dtype\": \"number\",\n        \"std\": 0,\n        \"min\": 0,\n        \"max\": 5,\n        \"num_unique_values\": 6,\n        \"samples\": [\n          1,\n          0\n        ],\n        \"semantic_type\": \"\",\n        \"description\": \"\"\n      }\n    },\n    {\n      \"column\": \"Parch\",\n      \"properties\": {\n        \"dtype\": \"number\",\n        \"std\": 0,\n        \"min\": 0,\n        \"max\": 6,\n        \"num_unique_values\": 7,\n        \"samples\": [\n          0,\n          1\n        ],\n        \"semantic_type\": \"\",\n        \"description\": \"\"\n      }\n    },\n    {\n      \"column\": \"Fare\",\n      \"properties\": {\n        \"dtype\": \"number\",\n        \"std\": 52.91892950254356,\n        \"min\": 0.0,\n        \"max\": 512.3292,\n        \"num_unique_values\": 220,\n        \"samples\": [\n          14.0,\n          15.7417\n        ],\n        \"semantic_type\": \"\",\n        \"description\": \"\"\n      }\n    }\n  ]\n}"
            }
          },
          "metadata": {},
          "execution_count": 9
        }
      ]
    },
    {
      "cell_type": "code",
      "source": [
        "from sklearn.preprocessing import LabelEncoder\n",
        "le = LabelEncoder()\n",
        "#df['Embarked'] = le.fit_transform(df['Embarked'])\n",
        "df['Sex'] = le.fit_transform(df['Sex'])"
      ],
      "metadata": {
        "id": "9ieqYdFOe1xE"
      },
      "execution_count": null,
      "outputs": []
    },
    {
      "cell_type": "code",
      "source": [
        "df.info()"
      ],
      "metadata": {
        "colab": {
          "base_uri": "https://localhost:8080/"
        },
        "id": "jf-Rv6I5fb3r",
        "outputId": "e5481dc9-e32d-4408-fbea-4e009d65a712"
      },
      "execution_count": null,
      "outputs": [
        {
          "output_type": "stream",
          "name": "stdout",
          "text": [
            "<class 'pandas.core.frame.DataFrame'>\n",
            "Index: 714 entries, 0 to 890\n",
            "Data columns (total 7 columns):\n",
            " #   Column    Non-Null Count  Dtype  \n",
            "---  ------    --------------  -----  \n",
            " 0   Survived  714 non-null    int64  \n",
            " 1   Pclass    714 non-null    int64  \n",
            " 2   Sex       714 non-null    int64  \n",
            " 3   Age       714 non-null    float64\n",
            " 4   SibSp     714 non-null    int64  \n",
            " 5   Parch     714 non-null    int64  \n",
            " 6   Fare      714 non-null    float64\n",
            "dtypes: float64(2), int64(5)\n",
            "memory usage: 44.6 KB\n"
          ]
        }
      ]
    },
    {
      "cell_type": "code",
      "source": [
        "#Create the feature input X and target variable Y\n",
        "X = df.iloc[:,1:8]\n",
        "y = df.iloc[:,0]"
      ],
      "metadata": {
        "id": "ziCqh5Oefk07"
      },
      "execution_count": null,
      "outputs": []
    },
    {
      "cell_type": "markdown",
      "source": [
        " Tách DataFrame thành hai phần: một là các đặc trưng đầu vào (X), và phần kia là biến mục tiêu (y). Đây là giải thích chi tiết:\n",
        "\n",
        "1. **`X = df.iloc[:,1:8]`**:\n",
        "   - `df.iloc[]` là một phương thức của Pandas được sử dụng để truy cập một tập con của DataFrame dựa trên chỉ số vị trí của hàng và cột.\n",
        "   - `:,1:8` định nghĩa phạm vi cột được chọn. Dấu `:` ở vị trí của hàng nghĩa là chọn tất cả các hàng. `1:8` nghĩa là chọn các cột từ cột thứ hai (chỉ số 1, vì chỉ số trong Python bắt đầu từ 0) đến cột thứ tám (không bao gồm cột thứ tám vì phạm vi trong Python là nửa mở).\n",
        "   - Kết quả là `X` chứa tất cả các hàng và các cột từ thứ hai đến thứ bảy của DataFrame `df`. Đây sẽ là tập dữ liệu đầu vào (features) cho mô hình.\n",
        "\n",
        "2. **`y = df.iloc[:,0]`**:\n",
        "   - Tương tự, `df.iloc[:,0]` được sử dụng để lấy tất cả các hàng nhưng chỉ lấy cột đầu tiên (chỉ số 0).\n",
        "   - Biến `y` này thường là biến mục tiêu hoặc nhãn (label) mà mô hình cần dự đoán.\n",
        "\n",
        "Trong ngữ cảnh của xây dựng mô hình học máy, `X` thường chứa dữ liệu dùng để dự đoán, trong khi `y` chứa kết quả thực tế mà mô hình cần học để có thể dự đoán chính xác hơn. Phương pháp này rất phổ biến trong quá trình chuẩn bị dữ liệu cho các thuật toán học có giám sát, nơi bạn cần có dữ liệu đầu vào (`X`) và dữ liệu đầu ra tương ứng (`y`)."
      ],
      "metadata": {
        "id": "atSenKGahtF0"
      }
    },
    {
      "cell_type": "code",
      "source": [
        "from sklearn.model_selection import train_test_split\n",
        "X_train, X_test, y_train, y_test = train_test_split(X,y,test_size=0.30,random_state=42)"
      ],
      "metadata": {
        "id": "RC4ftZzsglNr"
      },
      "execution_count": null,
      "outputs": []
    },
    {
      "cell_type": "markdown",
      "source": [
        "\n",
        "1. **`from sklearn.model_selection import train_test_split`**:\n",
        "   - Dòng này nhập hàm `train_test_split` từ mô-đun `model_selection` của thư viện `scikit-learn`. Hàm này được sử dụng để chia ngẫu nhiên tập dữ liệu thành hai tập con là tập huấn luyện và tập kiểm tra.\n",
        "\n",
        "2. **`X_train, X_test, y_train, y_test = train_test_split(X, y, test_size=0.30, random_state=42)`**:\n",
        "   - `train_test_split` là hàm chia tập dữ liệu `X` (đặc trưng) và `y` (biến mục tiêu) thành các tập con cho quá trình huấn luyện và kiểm tra.\n",
        "   - `X` và `y` là các biến đã được định nghĩa trước, chứa dữ liệu đầu vào và đầu ra mà bạn muốn mô hình học.\n",
        "   - `test_size=0.30` nghĩa là 30% dữ liệu sẽ được sử dụng cho tập kiểm tra, và phần còn lại (70%) sẽ là tập huấn luyện. Đây là tỷ lệ phân chia phổ biến trong học máy để đảm bảo mô hình được kiểm tra trên một lượng dữ liệu đủ lớn nhưng vẫn có đủ dữ liệu để huấn luyện.\n",
        "   - `random_state=42` đảm bảo rằng cách chia tập dữ liệu sẽ giống nhau mỗi khi chạy code. Số `42` là một giá trị tuỳ ý; nó giúp đảm bảo tính nhất quán và tái lập được của quá trình chia dữ liệu khi thực hiện các thử nghiệm.\n",
        "\n",
        "Kết quả của dòng code này là bốn biến: `X_train` và `y_train` chứa dữ liệu để huấn luyện mô hình; `X_test` và `y_test` chứa dữ liệu để kiểm tra mô hình. Phân chia dữ liệu như vậy giúp đánh giá khách quan hiệu suất của mô hình trên dữ liệu mới, không tham gia vào quá trình huấn luyện, từ đó có thể rút ra các kết luận về khả năng tổng quát hóa của mô hình."
      ],
      "metadata": {
        "id": "yI-YIUwNhlY0"
      }
    },
    {
      "cell_type": "code",
      "source": [
        "from sklearn.preprocessing import MinMaxScaler\n",
        "scaler = MinMaxScaler()\n",
        "X_train = scaler.fit_transform(X_train)\n",
        "X_test = scaler.transform(X_test)"
      ],
      "metadata": {
        "id": "BJBosAvVhn0S"
      },
      "execution_count": null,
      "outputs": []
    },
    {
      "cell_type": "markdown",
      "source": [
        " Sử dụng thư viện `scikit-learn` để chuẩn hóa dữ liệu đầu vào (features) trong quá trình chuẩn bị dữ liệu cho mô hình học máy.\n",
        "\n",
        "1. **`from sklearn.preprocessing import MinMaxScaler`**:\n",
        "   - Dòng này nhập `MinMaxScaler` từ module `preprocessing` của thư viện `scikit-learn`. `MinMaxScaler` là một công cụ dùng để chuẩn hóa dữ liệu theo phạm vi nhất định, thường là từ 0 đến 1, hoặc phạm vi khác mà bạn có thể chỉ định.\n",
        "\n",
        "2. **`scaler = MinMaxScaler()`**:\n",
        "   - Tạo một đối tượng `MinMaxScaler`. Đối tượng này sẽ được sử dụng để áp dụng phép chuẩn hóa cho dữ liệu.\n",
        "\n",
        "3. **`X_train = scaler.fit_transform(X_train)`**:\n",
        "   - `fit_transform()` là phương thức kết hợp hai bước: `fit` và `transform`.\n",
        "   - `fit` tính toán các tham số cần thiết (trong trường hợp này là giá trị nhỏ nhất và lớn nhất của mỗi đặc trưng) để sau này có thể được sử dụng để chuẩn hóa dữ liệu.\n",
        "   - `transform` áp dụng phép chuẩn hóa này, dựa trên các tham số đã tính, để chuyển đổi dữ liệu `X_train` sao cho giá trị của từng đặc trưng nằm trong khoảng từ 0 đến 1.\n",
        "   - Kết quả là tập dữ liệu `X_train` đã được chuẩn hóa, với mọi giá trị được chuyển về cùng một khoảng, giúp mô hình học máy dễ dàng học hơn.\n",
        "\n",
        "4. **`X_test = scaler.transform(X_test)`**:\n",
        "   - `transform()` sử dụng các tham số đã được tính toán từ `X_train` để chuẩn hóa `X_test`.\n",
        "   - Điều quan trọng là chỉ sử dụng phương thức `transform` (không phải `fit_transform`) trên tập kiểm tra, vì chúng ta muốn đảm bảo rằng mô hình được kiểm tra dưới cùng một điều kiện như khi nó được huấn luyện, không được \"học\" bất cứ thông tin mới nào từ tập kiểm tra.\n",
        "\n",
        "Việc chuẩn hóa dữ liệu là một bước quan trọng trong quá trình tiền xử lý dữ liệu cho học máy, nhằm đảm bảo rằng mô hình không bị ảnh hưởng bởi sự khác biệt về phạm vi giá trị của các đặc trưng khác nhau. Việc này giúp cải thiện hiệu suất và ổn định của mô hình khi huấn luyện và kiểm tra."
      ],
      "metadata": {
        "id": "Qc66FphbiaHD"
      }
    },
    {
      "cell_type": "code",
      "source": [
        "from sklearn.model_selection import GridSearchCV\n",
        "from sklearn.svm import SVC\n",
        "from sklearn.metrics import classification_report\n",
        "\n",
        "# Define the SVM model\n",
        "svm = SVC()\n",
        "\n",
        "# Define a grid of hyperparameters to sreach\n",
        "param_grid = {\n",
        "    'C' : [0.1, 1, 10],\n",
        "    'kernel' : ['linear', 'poly', 'rbf', 'sigmoid'],\n",
        "    'degree' : [2, 3, 4], # Only for 'poly' kernel\n",
        "}\n",
        "\n",
        "# Perform grid search with cross-validation\n",
        "grid_search = GridSearchCV(estimator=svm, param_grid=param_grid, cv=5)\n",
        "grid_search.fit(X_train, y_train)"
      ],
      "metadata": {
        "colab": {
          "base_uri": "https://localhost:8080/",
          "height": 117
        },
        "id": "NT0DeA-1i1VX",
        "outputId": "113b12ed-64aa-45fa-e3a6-21abd3bfa460"
      },
      "execution_count": null,
      "outputs": [
        {
          "output_type": "execute_result",
          "data": {
            "text/plain": [
              "GridSearchCV(cv=5, estimator=SVC(),\n",
              "             param_grid={'C': [0.1, 1, 10], 'degree': [2, 3, 4],\n",
              "                         'kernel': ['linear', 'poly', 'rbf', 'sigmoid']})"
            ],
            "text/html": [
              "<style>#sk-container-id-1 {color: black;background-color: white;}#sk-container-id-1 pre{padding: 0;}#sk-container-id-1 div.sk-toggleable {background-color: white;}#sk-container-id-1 label.sk-toggleable__label {cursor: pointer;display: block;width: 100%;margin-bottom: 0;padding: 0.3em;box-sizing: border-box;text-align: center;}#sk-container-id-1 label.sk-toggleable__label-arrow:before {content: \"▸\";float: left;margin-right: 0.25em;color: #696969;}#sk-container-id-1 label.sk-toggleable__label-arrow:hover:before {color: black;}#sk-container-id-1 div.sk-estimator:hover label.sk-toggleable__label-arrow:before {color: black;}#sk-container-id-1 div.sk-toggleable__content {max-height: 0;max-width: 0;overflow: hidden;text-align: left;background-color: #f0f8ff;}#sk-container-id-1 div.sk-toggleable__content pre {margin: 0.2em;color: black;border-radius: 0.25em;background-color: #f0f8ff;}#sk-container-id-1 input.sk-toggleable__control:checked~div.sk-toggleable__content {max-height: 200px;max-width: 100%;overflow: auto;}#sk-container-id-1 input.sk-toggleable__control:checked~label.sk-toggleable__label-arrow:before {content: \"▾\";}#sk-container-id-1 div.sk-estimator input.sk-toggleable__control:checked~label.sk-toggleable__label {background-color: #d4ebff;}#sk-container-id-1 div.sk-label input.sk-toggleable__control:checked~label.sk-toggleable__label {background-color: #d4ebff;}#sk-container-id-1 input.sk-hidden--visually {border: 0;clip: rect(1px 1px 1px 1px);clip: rect(1px, 1px, 1px, 1px);height: 1px;margin: -1px;overflow: hidden;padding: 0;position: absolute;width: 1px;}#sk-container-id-1 div.sk-estimator {font-family: monospace;background-color: #f0f8ff;border: 1px dotted black;border-radius: 0.25em;box-sizing: border-box;margin-bottom: 0.5em;}#sk-container-id-1 div.sk-estimator:hover {background-color: #d4ebff;}#sk-container-id-1 div.sk-parallel-item::after {content: \"\";width: 100%;border-bottom: 1px solid gray;flex-grow: 1;}#sk-container-id-1 div.sk-label:hover label.sk-toggleable__label {background-color: #d4ebff;}#sk-container-id-1 div.sk-serial::before {content: \"\";position: absolute;border-left: 1px solid gray;box-sizing: border-box;top: 0;bottom: 0;left: 50%;z-index: 0;}#sk-container-id-1 div.sk-serial {display: flex;flex-direction: column;align-items: center;background-color: white;padding-right: 0.2em;padding-left: 0.2em;position: relative;}#sk-container-id-1 div.sk-item {position: relative;z-index: 1;}#sk-container-id-1 div.sk-parallel {display: flex;align-items: stretch;justify-content: center;background-color: white;position: relative;}#sk-container-id-1 div.sk-item::before, #sk-container-id-1 div.sk-parallel-item::before {content: \"\";position: absolute;border-left: 1px solid gray;box-sizing: border-box;top: 0;bottom: 0;left: 50%;z-index: -1;}#sk-container-id-1 div.sk-parallel-item {display: flex;flex-direction: column;z-index: 1;position: relative;background-color: white;}#sk-container-id-1 div.sk-parallel-item:first-child::after {align-self: flex-end;width: 50%;}#sk-container-id-1 div.sk-parallel-item:last-child::after {align-self: flex-start;width: 50%;}#sk-container-id-1 div.sk-parallel-item:only-child::after {width: 0;}#sk-container-id-1 div.sk-dashed-wrapped {border: 1px dashed gray;margin: 0 0.4em 0.5em 0.4em;box-sizing: border-box;padding-bottom: 0.4em;background-color: white;}#sk-container-id-1 div.sk-label label {font-family: monospace;font-weight: bold;display: inline-block;line-height: 1.2em;}#sk-container-id-1 div.sk-label-container {text-align: center;}#sk-container-id-1 div.sk-container {/* jupyter's `normalize.less` sets `[hidden] { display: none; }` but bootstrap.min.css set `[hidden] { display: none !important; }` so we also need the `!important` here to be able to override the default hidden behavior on the sphinx rendered scikit-learn.org. See: https://github.com/scikit-learn/scikit-learn/issues/21755 */display: inline-block !important;position: relative;}#sk-container-id-1 div.sk-text-repr-fallback {display: none;}</style><div id=\"sk-container-id-1\" class=\"sk-top-container\"><div class=\"sk-text-repr-fallback\"><pre>GridSearchCV(cv=5, estimator=SVC(),\n",
              "             param_grid={&#x27;C&#x27;: [0.1, 1, 10], &#x27;degree&#x27;: [2, 3, 4],\n",
              "                         &#x27;kernel&#x27;: [&#x27;linear&#x27;, &#x27;poly&#x27;, &#x27;rbf&#x27;, &#x27;sigmoid&#x27;]})</pre><b>In a Jupyter environment, please rerun this cell to show the HTML representation or trust the notebook. <br />On GitHub, the HTML representation is unable to render, please try loading this page with nbviewer.org.</b></div><div class=\"sk-container\" hidden><div class=\"sk-item sk-dashed-wrapped\"><div class=\"sk-label-container\"><div class=\"sk-label sk-toggleable\"><input class=\"sk-toggleable__control sk-hidden--visually\" id=\"sk-estimator-id-1\" type=\"checkbox\" ><label for=\"sk-estimator-id-1\" class=\"sk-toggleable__label sk-toggleable__label-arrow\">GridSearchCV</label><div class=\"sk-toggleable__content\"><pre>GridSearchCV(cv=5, estimator=SVC(),\n",
              "             param_grid={&#x27;C&#x27;: [0.1, 1, 10], &#x27;degree&#x27;: [2, 3, 4],\n",
              "                         &#x27;kernel&#x27;: [&#x27;linear&#x27;, &#x27;poly&#x27;, &#x27;rbf&#x27;, &#x27;sigmoid&#x27;]})</pre></div></div></div><div class=\"sk-parallel\"><div class=\"sk-parallel-item\"><div class=\"sk-item\"><div class=\"sk-label-container\"><div class=\"sk-label sk-toggleable\"><input class=\"sk-toggleable__control sk-hidden--visually\" id=\"sk-estimator-id-2\" type=\"checkbox\" ><label for=\"sk-estimator-id-2\" class=\"sk-toggleable__label sk-toggleable__label-arrow\">estimator: SVC</label><div class=\"sk-toggleable__content\"><pre>SVC()</pre></div></div></div><div class=\"sk-serial\"><div class=\"sk-item\"><div class=\"sk-estimator sk-toggleable\"><input class=\"sk-toggleable__control sk-hidden--visually\" id=\"sk-estimator-id-3\" type=\"checkbox\" ><label for=\"sk-estimator-id-3\" class=\"sk-toggleable__label sk-toggleable__label-arrow\">SVC</label><div class=\"sk-toggleable__content\"><pre>SVC()</pre></div></div></div></div></div></div></div></div></div></div>"
            ]
          },
          "metadata": {},
          "execution_count": 15
        }
      ]
    },
    {
      "cell_type": "markdown",
      "source": [
        "Sử dụng `GridSearchCV` từ thư viện `scikit-learn` để tìm các tham số tốt nhất cho một mô hình SVM (Support Vector Machine). Dưới đây là chi tiết từng bước:\n",
        "\n",
        "1. **Nhập các thư viện cần thiết**:\n",
        "   - `from sklearn.model_selection import GridSearchCV`: Nhập `GridSearchCV`, một công cụ giúp tự động hóa quá trình tìm kiếm các tham số tối ưu cho một mô hình.\n",
        "   - `from sklearn.svm import SVC`: Nhập mô hình `SVC` (Support Vector Classification) từ module `svm` của `scikit-learn`.\n",
        "   - `from sklearn.metrics import classification_report`: Nhập `classification_report` để sau này có thể đánh giá hiệu suất của mô hình.\n",
        "\n",
        "2. **Định nghĩa mô hình SVM**:\n",
        "   - `svm = SVC()`: Khởi tạo một mô hình SVM với các giá trị mặc định của tham số.\n",
        "\n",
        "3. **Định nghĩa lưới tham số**:\n",
        "   - `param_grid`: Đây là một từ điển chứa các tham số cần tìm kiếm. Trong trường hợp này, chúng ta tìm kiếm ba tham số:\n",
        "     - `'C'`: Mảng các giá trị cho tham số C, đại diện cho tham số phạt của mô hình SVM. Các giá trị khác nhau của C có thể ảnh hưởng đến sự cân bằng giữa độ chính xác và độ tổng quát của mô hình.\n",
        "     - `'kernel'`: Các loại kernel khác nhau mà SVM có thể sử dụng. Mỗi kernel khác nhau phù hợp cho các loại dữ liệu khác nhau.\n",
        "     - `'degree'`: Dành riêng cho kernel `'poly'` (đa thức), tham số này chỉ định bậc của đa thức.\n",
        "\n",
        "4. **Thực hiện tìm kiếm lưới với kiểm định chéo**:\n",
        "   - `grid_search = GridSearchCV(estimator=svm, param_grid=param_grid, cv=5)`: Khởi tạo `GridSearchCV` với mô hình SVM, lưới tham số đã định nghĩa, và sử dụng 5-fold cross-validation (`cv=5`). Cross-validation là phương pháp để đánh giá mô hình dựa trên phân chia tập dữ liệu thành nhiều \"fold\", từ đó giúp đánh giá mô hình một cách khách quan hơn bằng cách sử dụng mỗi fold làm tập kiểm tra một lần và các fold còn lại làm tập huấn luyện.\n",
        "   - `grid_search.fit(X_train, y_train)`: Huấn luyện `GridSearchCV` trên tập dữ liệu huấn luyện. Quá trình này sẽ thử các kết hợp tham số khác nhau đã được xác định trong `param_grid` để tìm ra bộ tham số tối ưu.\n",
        "\n",
        "Sau khi thực hiện xong, đối tượng `grid_search` sẽ chứa kết quả của tìm kiếm lưới, bao gồm bộ tham số tốt nhất và hiệu suất tương ứng của mô hình với bộ tham số đó. Bạn có thể sử dụng `grid_search.best_params_` để xem các tham số tốt nhất và `grid_search.best_score_` để xem điểm số tốt nhất trên các fold của kiểm định chéo."
      ],
      "metadata": {
        "id": "zq9o3yJIkobK"
      }
    },
    {
      "cell_type": "code",
      "source": [
        "# Get the best hyperparameters from the grid search\n",
        "best_params = grid_search.best_params_\n",
        "best_score = grid_search.best_score_\n",
        "\n",
        "print(\"Best Hyperparameters:\", best_params)\n",
        "print(\"Best Cross-Validation Score:\",best_score)"
      ],
      "metadata": {
        "colab": {
          "base_uri": "https://localhost:8080/"
        },
        "id": "HQpPcy6dlAGu",
        "outputId": "1f46d07f-4476-4f4f-9949-9a035e04f503"
      },
      "execution_count": null,
      "outputs": [
        {
          "output_type": "stream",
          "name": "stdout",
          "text": [
            "Best Hyperparameters: {'C': 10, 'degree': 2, 'kernel': 'rbf'}\n",
            "Best Cross-Validation Score: 0.8377171717171716\n"
          ]
        }
      ]
    },
    {
      "cell_type": "markdown",
      "source": [
        "Code để lấy và hiển thị các tham số tối ưu nhất và điểm số kiểm định chéo tốt nhất tìm được từ quá trình tìm kiếm lưới (grid search) đã thực hiện trên một mô hình SVM. Dưới đây là chi tiết từng bước:\n",
        "\n",
        "1. **Lấy các tham số tối ưu nhất**:\n",
        "   - `best_params = grid_search.best_params_`: Thuộc tính `best_params_` của đối tượng `GridSearchCV` chứa bộ tham số tối ưu nhất mà `GridSearchCV` tìm thấy sau khi đã thực hiện tìm kiếm trên lưới các tham số được định nghĩa. Đây là bộ tham số đã mang lại điểm số kiểm định chéo cao nhất.\n",
        "\n",
        "2. **Lấy điểm số kiểm định chéo tốt nhất**:\n",
        "   - `best_score = grid_search.best_score_`: Thuộc tính `best_score_` của `GridSearchCV` chứa điểm số kiểm định chéo cao nhất đạt được bằng cách sử dụng bộ tham số tối ưu từ `best_params_`. Điểm số này là trung bình của các điểm số kiểm định chéo thu được từ mỗi fold khi thực hiện kiểm định chéo trong quá trình tìm kiếm.\n",
        "\n",
        "3. **In các kết quả**:\n",
        "   - `print(\"Best Hyperparameters:\", best_params)`: In ra bộ tham số tối ưu.\n",
        "   - `print(\"Best Cross-Validation Score:\", best_score)`: In ra điểm số kiểm định chéo tốt nhất.\n",
        "\n",
        "Thông qua các bước này, bạn có thể nhận biết được hiệu quả của mô hình SVM khi sử dụng các tham số tối ưu nhất đã tìm được. Điểm số kiểm định chéo tốt nhất cung cấp một chỉ báo về khả năng tổng quát hóa của mô hình khi áp dụng lên dữ liệu mới, ngoài tập dữ liệu huấn luyện. Việc biết được các tham số tối ưu giúp cải thiện hiệu suất của mô hình khi triển khai thực tế hoặc tiếp tục nghiên cứu và phát triển."
      ],
      "metadata": {
        "id": "XhvAesDumYhl"
      }
    },
    {
      "cell_type": "markdown",
      "source": [
        "Kết quả mà bạn nhận được từ đoạn code trước đây cho thấy thông tin về các tham số tối ưu nhất và điểm số kiểm định chéo tốt nhất cho mô hình SVM đã được huấn luyện:\n",
        "\n",
        "1. **Best Hyperparameters**:\n",
        "   - `{'C': 0.1, 'degree': 2, 'kernel': 'linear'}`: Đây là bộ tham số tối ưu mà `GridSearchCV` đã tìm thấy.\n",
        "   - `C = 0.1`: Đây là giá trị của tham số điều chỉnh độ mạnh của hình phạt cho những điểm dữ liệu bị phân loại sai. Một giá trị `C` thấp cho thấy mô hình chấp nhận biên phân loại rộng hơn với một số điểm sai, nhằm tăng khả năng tổng quát hóa.\n",
        "   - `degree = 2`: Đây là bậc của đa thức trong trường hợp sử dụng kernel đa thức (`poly`). Tuy nhiên, ở đây kernel được chọn là `linear`, nên tham số này không ảnh hưởng.\n",
        "   - `kernel = 'linear'`: Loại kernel được sử dụng là tuyến tính. Điều này có nghĩa là mô hình sử dụng một siêu mặt phẳng tuyến tính để phân tách các lớp dữ liệu.\n",
        "\n",
        "2. **Best Cross-Validation Score**:\n",
        "   - `0.7915757575757576`: Đây là điểm số kiểm định chéo tốt nhất thu được bằng cách sử dụng bộ tham số tối ưu. Giá trị này là trung bình cộng của các điểm số từ 5-fold cross-validation. Điểm số này gần bằng 0.792, nghĩa là mô hình có thể dự đoán chính xác khoảng 79.2% trường hợp trên tập kiểm định chéo. Đây là một chỉ số đánh giá hiệu quả của mô hình dựa trên các tham số được chọn.\n",
        "\n",
        "Kết quả này cho thấy mô hình SVM với kernel tuyến tính và giá trị `C` thấp đã cho thấy khả năng tổng quát hóa tốt trên tập dữ liệu được sử dụng, với khoảng 79.2% độ chính xác trong dự đoán. Các tham số này giúp bạn hiểu rõ hơn về mô hình và cách thức nó phân loại dữ liệu, từ đó bạn có thể sử dụng các tham số này để áp dụng mô hình trong các ứng dụng thực tế hoặc tiếp tục tối ưu hóa nó."
      ],
      "metadata": {
        "id": "PcblV0kPm51S"
      }
    },
    {
      "cell_type": "code",
      "source": [
        "# Train an SVM model with the best hyperparameters on the full training set\n",
        "best_svm = SVC(**best_params)\n",
        "best_svm.fit(X_train, y_train)"
      ],
      "metadata": {
        "colab": {
          "base_uri": "https://localhost:8080/",
          "height": 74
        },
        "id": "pECOEmgJm8Fm",
        "outputId": "6bc2d9f3-8a98-42fc-b643-0d47e3475ba4"
      },
      "execution_count": null,
      "outputs": [
        {
          "output_type": "execute_result",
          "data": {
            "text/plain": [
              "SVC(C=10, degree=2)"
            ],
            "text/html": [
              "<style>#sk-container-id-2 {color: black;background-color: white;}#sk-container-id-2 pre{padding: 0;}#sk-container-id-2 div.sk-toggleable {background-color: white;}#sk-container-id-2 label.sk-toggleable__label {cursor: pointer;display: block;width: 100%;margin-bottom: 0;padding: 0.3em;box-sizing: border-box;text-align: center;}#sk-container-id-2 label.sk-toggleable__label-arrow:before {content: \"▸\";float: left;margin-right: 0.25em;color: #696969;}#sk-container-id-2 label.sk-toggleable__label-arrow:hover:before {color: black;}#sk-container-id-2 div.sk-estimator:hover label.sk-toggleable__label-arrow:before {color: black;}#sk-container-id-2 div.sk-toggleable__content {max-height: 0;max-width: 0;overflow: hidden;text-align: left;background-color: #f0f8ff;}#sk-container-id-2 div.sk-toggleable__content pre {margin: 0.2em;color: black;border-radius: 0.25em;background-color: #f0f8ff;}#sk-container-id-2 input.sk-toggleable__control:checked~div.sk-toggleable__content {max-height: 200px;max-width: 100%;overflow: auto;}#sk-container-id-2 input.sk-toggleable__control:checked~label.sk-toggleable__label-arrow:before {content: \"▾\";}#sk-container-id-2 div.sk-estimator input.sk-toggleable__control:checked~label.sk-toggleable__label {background-color: #d4ebff;}#sk-container-id-2 div.sk-label input.sk-toggleable__control:checked~label.sk-toggleable__label {background-color: #d4ebff;}#sk-container-id-2 input.sk-hidden--visually {border: 0;clip: rect(1px 1px 1px 1px);clip: rect(1px, 1px, 1px, 1px);height: 1px;margin: -1px;overflow: hidden;padding: 0;position: absolute;width: 1px;}#sk-container-id-2 div.sk-estimator {font-family: monospace;background-color: #f0f8ff;border: 1px dotted black;border-radius: 0.25em;box-sizing: border-box;margin-bottom: 0.5em;}#sk-container-id-2 div.sk-estimator:hover {background-color: #d4ebff;}#sk-container-id-2 div.sk-parallel-item::after {content: \"\";width: 100%;border-bottom: 1px solid gray;flex-grow: 1;}#sk-container-id-2 div.sk-label:hover label.sk-toggleable__label {background-color: #d4ebff;}#sk-container-id-2 div.sk-serial::before {content: \"\";position: absolute;border-left: 1px solid gray;box-sizing: border-box;top: 0;bottom: 0;left: 50%;z-index: 0;}#sk-container-id-2 div.sk-serial {display: flex;flex-direction: column;align-items: center;background-color: white;padding-right: 0.2em;padding-left: 0.2em;position: relative;}#sk-container-id-2 div.sk-item {position: relative;z-index: 1;}#sk-container-id-2 div.sk-parallel {display: flex;align-items: stretch;justify-content: center;background-color: white;position: relative;}#sk-container-id-2 div.sk-item::before, #sk-container-id-2 div.sk-parallel-item::before {content: \"\";position: absolute;border-left: 1px solid gray;box-sizing: border-box;top: 0;bottom: 0;left: 50%;z-index: -1;}#sk-container-id-2 div.sk-parallel-item {display: flex;flex-direction: column;z-index: 1;position: relative;background-color: white;}#sk-container-id-2 div.sk-parallel-item:first-child::after {align-self: flex-end;width: 50%;}#sk-container-id-2 div.sk-parallel-item:last-child::after {align-self: flex-start;width: 50%;}#sk-container-id-2 div.sk-parallel-item:only-child::after {width: 0;}#sk-container-id-2 div.sk-dashed-wrapped {border: 1px dashed gray;margin: 0 0.4em 0.5em 0.4em;box-sizing: border-box;padding-bottom: 0.4em;background-color: white;}#sk-container-id-2 div.sk-label label {font-family: monospace;font-weight: bold;display: inline-block;line-height: 1.2em;}#sk-container-id-2 div.sk-label-container {text-align: center;}#sk-container-id-2 div.sk-container {/* jupyter's `normalize.less` sets `[hidden] { display: none; }` but bootstrap.min.css set `[hidden] { display: none !important; }` so we also need the `!important` here to be able to override the default hidden behavior on the sphinx rendered scikit-learn.org. See: https://github.com/scikit-learn/scikit-learn/issues/21755 */display: inline-block !important;position: relative;}#sk-container-id-2 div.sk-text-repr-fallback {display: none;}</style><div id=\"sk-container-id-2\" class=\"sk-top-container\"><div class=\"sk-text-repr-fallback\"><pre>SVC(C=10, degree=2)</pre><b>In a Jupyter environment, please rerun this cell to show the HTML representation or trust the notebook. <br />On GitHub, the HTML representation is unable to render, please try loading this page with nbviewer.org.</b></div><div class=\"sk-container\" hidden><div class=\"sk-item\"><div class=\"sk-estimator sk-toggleable\"><input class=\"sk-toggleable__control sk-hidden--visually\" id=\"sk-estimator-id-4\" type=\"checkbox\" checked><label for=\"sk-estimator-id-4\" class=\"sk-toggleable__label sk-toggleable__label-arrow\">SVC</label><div class=\"sk-toggleable__content\"><pre>SVC(C=10, degree=2)</pre></div></div></div></div></div>"
            ]
          },
          "metadata": {},
          "execution_count": 17
        }
      ]
    },
    {
      "cell_type": "markdown",
      "source": [
        "Code thể hiện các bước để huấn luyện mô hình SVM sử dụng các tham số tối ưu đã được xác định từ quá trình tìm kiếm lưới trước đó. Dưới đây là giải thích chi tiết:\n",
        "\n",
        "1. **Khởi tạo mô hình SVM với các tham số tối ưu**:\n",
        "   - `best_svm = SVC(**best_params)`: Dòng này tạo một đối tượng mới của mô hình `SVC` (Support Vector Classification), một loại của Support Vector Machine dành cho bài toán phân loại. `**best_params` là cú pháp trong Python để truyền các tham số từ một từ điển vào hàm dưới dạng tham số từ khóa. Ở đây, từ điển `best_params` chứa các tham số tối ưu nhất đã được tìm thấy từ `GridSearchCV`, bao gồm `C=0.1`, `degree=2`, và `kernel='linear'`.\n",
        "\n",
        "2. **Huấn luyện mô hình trên toàn bộ tập huấn luyện**:\n",
        "   - `best_svm.fit(X_train, y_train)`: Phương thức `fit` được sử dụng để huấn luyện mô hình trên tập dữ liệu huấn luyện `X_train` và nhãn tương ứng `y_train`. Trong quá trình này, mô hình học cách phân biệt các lớp trong dữ liệu dựa trên các đặc điểm và tham số đã cho.\n",
        "\n",
        "Mục đích của việc sử dụng các tham số tối ưu là để đảm bảo rằng mô hình có hiệu suất tốt nhất có thể trên tập huấn luyện, và kỳ vọng là nó cũng sẽ hoạt động tốt trên tập dữ liệu mới hoặc tập kiểm tra. Sau khi huấn luyện, `best_svm` sẽ là mô hình đã được tối ưu hóa và sẵn sàng để đánh giá hiệu suất hoặc để thực hiện dự đoán trên dữ liệu mới.\n",
        "\n",
        "Việc huấn luyện mô hình với các tham số tối ưu là một bước quan trọng để đạt được hiệu quả cao nhất khi áp dụng mô hình vào thực tiễn, giúp tăng khả năng dự đoán chính xác và độ tin cậy của mô hình."
      ],
      "metadata": {
        "id": "-bmCYnQZnnBx"
      }
    },
    {
      "cell_type": "code",
      "source": [
        "# Make predictions on the test set\n",
        "y_pred = best_svm.predict(X_test)"
      ],
      "metadata": {
        "id": "h7vAygrKn15F"
      },
      "execution_count": null,
      "outputs": []
    },
    {
      "cell_type": "markdown",
      "source": [
        " Code thể hiện các bước để huấn luyện mô hình SVM sử dụng các tham số tối ưu đã được xác định từ quá trình tìm kiếm lưới trước đó. Dưới đây là giải thích chi tiết:\n",
        "\n",
        "1. **Khởi tạo mô hình SVM với các tham số tối ưu**:\n",
        "   - `best_svm = SVC(**best_params)`: Dòng này tạo một đối tượng mới của mô hình `SVC` (Support Vector Classification), một loại của Support Vector Machine dành cho bài toán phân loại. `**best_params` là cú pháp trong Python để truyền các tham số từ một từ điển vào hàm dưới dạng tham số từ khóa. Ở đây, từ điển `best_params` chứa các tham số tối ưu nhất đã được tìm thấy từ `GridSearchCV`, bao gồm `C=0.1`, `degree=2`, và `kernel='linear'`.\n",
        "\n",
        "2. **Huấn luyện mô hình trên toàn bộ tập huấn luyện**:\n",
        "   - `best_svm.fit(X_train, y_train)`: Phương thức `fit` được sử dụng để huấn luyện mô hình trên tập dữ liệu huấn luyện `X_train` và nhãn tương ứng `y_train`. Trong quá trình này, mô hình học cách phân biệt các lớp trong dữ liệu dựa trên các đặc điểm và tham số đã cho.\n",
        "\n",
        "Mục đích của việc sử dụng các tham số tối ưu là để đảm bảo rằng mô hình có hiệu suất tốt nhất có thể trên tập huấn luyện, và kỳ vọng là nó cũng sẽ hoạt động tốt trên tập dữ liệu mới hoặc tập kiểm tra. Sau khi huấn luyện, `best_svm` sẽ là mô hình đã được tối ưu hóa và sẵn sàng để đánh giá hiệu suất hoặc để thực hiện dự đoán trên dữ liệu mới.\n",
        "\n",
        "Việc huấn luyện mô hình với các tham số tối ưu là một bước quan trọng để đạt được hiệu quả cao nhất khi áp dụng mô hình vào thực tiễn, giúp tăng khả năng dự đoán chính xác và độ tin cậy của mô hình."
      ],
      "metadata": {
        "id": "q732QomL64Zc"
      }
    },
    {
      "cell_type": "code",
      "source": [
        "# Print the results\n",
        "print(\"\\nClassification Report on Test Set:\")\n",
        "print(classification_report(y_test, y_pred))"
      ],
      "metadata": {
        "colab": {
          "base_uri": "https://localhost:8080/"
        },
        "id": "l4PULl2MoLx5",
        "outputId": "bcec0b70-e36b-44ec-c951-d5d721347261"
      },
      "execution_count": null,
      "outputs": [
        {
          "output_type": "stream",
          "name": "stdout",
          "text": [
            "\n",
            "Classification Report on Test Set:\n",
            "              precision    recall  f1-score   support\n",
            "\n",
            "           0       0.78      0.87      0.82       126\n",
            "           1       0.78      0.65      0.71        89\n",
            "\n",
            "    accuracy                           0.78       215\n",
            "   macro avg       0.78      0.76      0.77       215\n",
            "weighted avg       0.78      0.78      0.78       215\n",
            "\n"
          ]
        }
      ]
    },
    {
      "cell_type": "markdown",
      "source": [
        "Đoạn code hiển thị báo cáo phân loại (classification report) cho kết quả của mô hình SVM khi dự đoán trên tập kiểm tra. Báo cáo này cung cấp thông tin chi tiết về hiệu suất của mô hình dựa trên các chỉ số đánh giá chính: precision, recall, f1-score và accuracy. Dưới đây là giải thích chi tiết cho từng chỉ số và ý nghĩa của chúng trong báo cáo:\n",
        "\n",
        "### Báo cáo Phân Loại:\n",
        "\n",
        "**Precision**:\n",
        "- Precision đo lường tỷ lệ các mục được dự đoán là tích cực (positive) thực sự là tích cực.\n",
        "- Trong ví dụ, precision cho lớp 0 là 0.78, nghĩa là 78% các dự đoán là lớp 0 là chính xác. Tương tự, precision cho lớp 1 cũng là 0.78.\n",
        "\n",
        "**Recall**:\n",
        "- Recall (đôi khi được gọi là sensitivity) đo lường tỷ lệ các mục tích cực thực sự được dự đoán chính xác là tích cực.\n",
        "- Trong ví dụ, recall cho lớp 0 là 0.87, nghĩa là mô hình đã phát hiện chính xác 87% các mẫu thuộc lớp 0. Recall cho lớp 1 là 0.65, chỉ có 65% các mẫu thuộc lớp 1 được phát hiện chính xác.\n",
        "\n",
        "**F1-Score**:\n",
        "- F1-score là trung bình điều hòa của precision và recall, giúp cung cấp một cái nhìn tổng quan về hiệu suất mô hình khi cân bằng cả hai chỉ số này.\n",
        "- F1-score cho lớp 0 là 0.82 và cho lớp 1 là 0.71, cho thấy mô hình hoạt động tốt hơn với lớp 0 so với lớp 1.\n",
        "\n",
        "**Accuracy**:\n",
        "- Accuracy đo lường tỷ lệ tổng số dự đoán chính xác so với tổng số mẫu.\n",
        "- Accuracy của mô hình là 0.78 (hoặc 78%), nghĩa là tổng thể mô hình đã dự đoán chính xác 78% số trường hợp trên tập kiểm tra.\n",
        "\n",
        "**Macro Avg và Weighted Avg**:\n",
        "- **Macro average** tính trung bình của precision, recall và f1-score cho mỗi lớp mà không cân nhắc tới tỷ lệ của từng lớp trong tập dữ liệu. Điều này cho ra một cái nhìn công bằng nhưng không phản ánh đúng ảnh hưởng của tỷ lệ lớp (class imbalance).\n",
        "- **Weighted average** tính trung bình của các chỉ số, nhưng có trọng số dựa trên số lượng mẫu thực tế trong từng lớp. Điều này giúp cung cấp cái nhìn thực tế hơn về hiệu suất mô hình trong bối cảnh có sự mất cân bằng lớp.\n",
        "\n",
        "Thông qua báo cáo này, có thể đánh giá khả năng của mô hình trong việc phân loại chính xác các lớp khác nhau và nhận diện được những điểm mạnh cũng như điểm yếu cụ thể của mô hình trong bối cảnh dữ liệu cụ thể."
      ],
      "metadata": {
        "id": "NBKA9GoT_aXU"
      }
    },
    {
      "cell_type": "code",
      "source": [
        "from qiskit import BasicAer\n",
        "from qiskit.circuit.library import ZZFeatureMap\n",
        "from qiskit.aqua.algorithms import QSVM\n",
        "from qiskit.aqua import QuantumInstance\n",
        "from qiskit.aqua.utils import split_dataset_to_data_and_labels, map_label_to_class_name\n",
        "\n",
        "# Tạo feature map\n",
        "feature_map = ZZFeatureMap(feature_dimension=2, reps=2, entanglement='linear')\n",
        "\n",
        "# Tạo backend để chạy mô hình\n",
        "backend = BasicAer.get_backend('qasm_simulator')\n",
        "\n",
        "# Tạo một thể hiện của QuantumInstance\n",
        "quantum_instance = QuantumInstance(backend, shots=1024, seed_simulator=10598, seed_transpiler=10598)\n",
        "\n",
        "# Tạo mô hình QSVM\n",
        "qsvm = QSVM(feature_map, training_input, test_input, datapoints[0])\n",
        "\n",
        "# Huấn luyện mô hình\n",
        "qsvm.run(quantum_instance)\n"
      ],
      "metadata": {
        "id": "PGQFYPGD_n8Z",
        "outputId": "2d8bc327-5d97-4328-89d7-d4e785a2bd92",
        "colab": {
          "base_uri": "https://localhost:8080/",
          "height": 383
        }
      },
      "execution_count": null,
      "outputs": [
        {
          "output_type": "error",
          "ename": "ModuleNotFoundError",
          "evalue": "No module named 'qiskit'",
          "traceback": [
            "\u001b[0;31m---------------------------------------------------------------------------\u001b[0m",
            "\u001b[0;31mModuleNotFoundError\u001b[0m                       Traceback (most recent call last)",
            "\u001b[0;32m<ipython-input-21-3b46e9ee4fc0>\u001b[0m in \u001b[0;36m<cell line: 1>\u001b[0;34m()\u001b[0m\n\u001b[0;32m----> 1\u001b[0;31m \u001b[0;32mfrom\u001b[0m \u001b[0mqiskit\u001b[0m \u001b[0;32mimport\u001b[0m \u001b[0mBasicAer\u001b[0m\u001b[0;34m\u001b[0m\u001b[0;34m\u001b[0m\u001b[0m\n\u001b[0m\u001b[1;32m      2\u001b[0m \u001b[0;32mfrom\u001b[0m \u001b[0mqiskit\u001b[0m\u001b[0;34m.\u001b[0m\u001b[0mcircuit\u001b[0m\u001b[0;34m.\u001b[0m\u001b[0mlibrary\u001b[0m \u001b[0;32mimport\u001b[0m \u001b[0mZZFeatureMap\u001b[0m\u001b[0;34m\u001b[0m\u001b[0;34m\u001b[0m\u001b[0m\n\u001b[1;32m      3\u001b[0m \u001b[0;32mfrom\u001b[0m \u001b[0mqiskit\u001b[0m\u001b[0;34m.\u001b[0m\u001b[0maqua\u001b[0m\u001b[0;34m.\u001b[0m\u001b[0malgorithms\u001b[0m \u001b[0;32mimport\u001b[0m \u001b[0mQSVM\u001b[0m\u001b[0;34m\u001b[0m\u001b[0;34m\u001b[0m\u001b[0m\n\u001b[1;32m      4\u001b[0m \u001b[0;32mfrom\u001b[0m \u001b[0mqiskit\u001b[0m\u001b[0;34m.\u001b[0m\u001b[0maqua\u001b[0m \u001b[0;32mimport\u001b[0m \u001b[0mQuantumInstance\u001b[0m\u001b[0;34m\u001b[0m\u001b[0;34m\u001b[0m\u001b[0m\n\u001b[1;32m      5\u001b[0m \u001b[0;32mfrom\u001b[0m \u001b[0mqiskit\u001b[0m\u001b[0;34m.\u001b[0m\u001b[0maqua\u001b[0m\u001b[0;34m.\u001b[0m\u001b[0mutils\u001b[0m \u001b[0;32mimport\u001b[0m \u001b[0msplit_dataset_to_data_and_labels\u001b[0m\u001b[0;34m,\u001b[0m \u001b[0mmap_label_to_class_name\u001b[0m\u001b[0;34m\u001b[0m\u001b[0;34m\u001b[0m\u001b[0m\n",
            "\u001b[0;31mModuleNotFoundError\u001b[0m: No module named 'qiskit'",
            "",
            "\u001b[0;31m---------------------------------------------------------------------------\u001b[0;32m\nNOTE: If your import is failing due to a missing package, you can\nmanually install dependencies using either !pip or !apt.\n\nTo view examples of installing some common dependencies, click the\n\"Open Examples\" button below.\n\u001b[0;31m---------------------------------------------------------------------------\u001b[0m\n"
          ],
          "errorDetails": {
            "actions": [
              {
                "action": "open_url",
                "actionText": "Open Examples",
                "url": "/notebooks/snippets/importing_libraries.ipynb"
              }
            ]
          }
        }
      ]
    }
  ]
}